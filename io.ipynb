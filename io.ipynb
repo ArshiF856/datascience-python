{
 "cells": [
  {
   "cell_type": "markdown",
   "metadata": {},
   "source": []
  },
  {
   "cell_type": "markdown",
   "metadata": {},
   "source": []
  },
  {
   "cell_type": "code",
   "execution_count": null,
   "metadata": {},
   "outputs": [],
   "source": [
    "p = 120000\n",
    "r =2.5\n",
    "t = 10\n",
    "si = (p*r*t)/100\n",
    "print(\"Simple Interest Calculator\")\n",
    "print(\"⏲\"*5)\n",
    "print(f\"principle{p:14}\")   ###f\"srting\" is used to format string,to add variables,comma seperator \n",
    "print(f\"rate{r:19}\")\n",
    "print(f\"time{t:19}\")\n",
    "print(f\"Simple Interest{si:8}\\n\")\n",
    "print(\"----------****----------\")"
   ]
  },
  {
   "cell_type": "code",
   "execution_count": null,
   "metadata": {},
   "outputs": [],
   "source": [
    "p = 120000\n",
    "r =2.5\n",
    "t = 10\n",
    "si = (p*r*t)/100\n",
    "print(\"Simple Interest Calculator\")\n",
    "print(\"_\"*30)\n",
    "print(f\"principle{p//1000:14}K\")   ###f\"srting\" is used to format string,to add variables,comma seperator \n",
    "print(f\"rate{r:19}\")\n",
    "print(f\"time{t:19}\")\n",
    "print(\"_\"*30)\n",
    "print(f\"Simple Interest{si//1000:8}K\\n\")\n",
    "print(\"_\"*30)\n"
   ]
  },
  {
   "cell_type": "code",
   "execution_count": 29,
   "metadata": {},
   "outputs": [
    {
     "name": "stdout",
     "output_type": "stream",
     "text": [
      "Result is 7\n"
     ]
    }
   ],
   "source": [
    "a = int(input(\"Enter 1 value\"))\n",
    "b = int(input(\"Enter 2 value\"))\n",
    "print(\"Result is\",a+b)"
   ]
  },
  {
   "cell_type": "code",
   "execution_count": null,
   "metadata": {},
   "outputs": [],
   "source": [
    "fav_movie=input(\"Please enter your favorite movie\")\n",
    "print(fav_movie)\n",
    "print(\"you may like it\")"
   ]
  }
 ],
 "metadata": {
  "kernelspec": {
   "display_name": "Python 3",
   "language": "python",
   "name": "python3"
  },
  "language_info": {
   "codemirror_mode": {
    "name": "ipython",
    "version": 3
   },
   "file_extension": ".py",
   "mimetype": "text/x-python",
   "name": "python",
   "nbconvert_exporter": "python",
   "pygments_lexer": "ipython3",
   "version": "3.12.4"
  }
 },
 "nbformat": 4,
 "nbformat_minor": 2
}
