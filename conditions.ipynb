{
 "cells": [
  {
   "cell_type": "code",
   "execution_count": 10,
   "metadata": {},
   "outputs": [
    {
     "name": "stdout",
     "output_type": "stream",
     "text": [
      "C 30 is the largest\n"
     ]
    }
   ],
   "source": [
    "#find the largest among all\n",
    "a =10\n",
    "b=20\n",
    "c=30\n",
    "if a>b and a>c:\n",
    "    print(f\"A {a} is the largest\")\n",
    "elif b>a and b>c:\n",
    "    print(f\"B {b} is the largest\")\n",
    "if c>b and c>b:\n",
    "    print(f\"C {c} is the largest\")"
   ]
  },
  {
   "cell_type": "code",
   "execution_count": 6,
   "metadata": {},
   "outputs": [
    {
     "name": "stdout",
     "output_type": "stream",
     "text": [
      "Grade is A\n"
     ]
    }
   ],
   "source": [
    "marks = 90\n",
    "if marks > 85:\n",
    "    grade = \"A\"\n",
    "elif marks > 70:\n",
    "    grade = \"B\"\n",
    "elif marks > 60:\n",
    "    grade = \"C\"\n",
    "elif marks > 50:\n",
    "    grade = \"D\"\n",
    "else:\n",
    "    grade = \"F\"\n",
    "print(f\"Grade is {grade}\")"
   ]
  },
  {
   "cell_type": "code",
   "execution_count": 12,
   "metadata": {},
   "outputs": [
    {
     "name": "stdout",
     "output_type": "stream",
     "text": [
      "Wrong username\n"
     ]
    }
   ],
   "source": [
    "#nested if\n",
    "username = input(\"Enter a username\")\n",
    "password = input(\"Enter the password\")\n",
    "if username != \"\" and password != \"\":    #or if username and password\n",
    "    if username == \"admin\":\n",
    "        if password ==\"admin\":\n",
    "            print(\"Welcome Admin\")\n",
    "        else:\n",
    "            print(\"Wrong Password\")\n",
    "    else:\n",
    "        print(\"Wrong username\")\n",
    "else:\n",
    "    print(\"Invalid info\")        \n"
   ]
  },
  {
   "cell_type": "code",
   "execution_count": 15,
   "metadata": {},
   "outputs": [
    {
     "name": "stdout",
     "output_type": "stream",
     "text": [
      "🆗\n"
     ]
    }
   ],
   "source": [
    "###Alternative of below program\n",
    "# Short hand if else\n",
    "a = int(input(\"Enter A value\"))\n",
    "print(\"🆗\") if a>=10 else print(\"❌\")"
   ]
  },
  {
   "cell_type": "code",
   "execution_count": 14,
   "metadata": {},
   "outputs": [
    {
     "name": "stdout",
     "output_type": "stream",
     "text": [
      "🆗🆗\n"
     ]
    }
   ],
   "source": [
    "a = int(input(\"Enter A value\"))\n",
    "if a >= 10:\n",
    "    print(\"🆗🆗\")\n",
    "else:\n",
    "    print(\"❌❌❌\")"
   ]
  },
  {
   "cell_type": "code",
   "execution_count": 20,
   "metadata": {},
   "outputs": [
    {
     "name": "stdout",
     "output_type": "stream",
     "text": [
      "What would you like to eat\n",
      "Menu\n",
      "1.Pizza\n",
      "2.Burger\n",
      "3.pasta\n",
      "4.Sandwich\n",
      "Enter your choice : 3\n",
      "your order is pasta\n"
     ]
    }
   ],
   "source": [
    "###Match case(not similar to switch case)\n",
    "print(\"What would you like to eat\")\n",
    "print(\"Menu\")\n",
    "print(\"1.Pizza\")\n",
    "print(\"2.Burger\")\n",
    "print(\"3.pasta\")\n",
    "print(\"4.Sandwich\")\n",
    "#enter = int(input(\"enter your choice\"))\n",
    "print(\"Enter your choice :\")\n",
    "ch = int(input(\">>>\"))\n",
    "match enter:\n",
    "    case 1:\n",
    "        print(\"Your order is pizza🍕\")\n",
    "    case 2:\n",
    "        print(\"Your order is burger🍔\")\n",
    "    case 3:\n",
    "        print(\"Your order is pasta🥧\")\n",
    "    case 4:\n",
    "        print(\"Your order is sandwich🥪\")\n",
    "    case _:\n",
    "        print(\"invalid choice\")"
   ]
  }
 ],
 "metadata": {
  "kernelspec": {
   "display_name": "base",
   "language": "python",
   "name": "python3"
  },
  "language_info": {
   "codemirror_mode": {
    "name": "ipython",
    "version": 3
   },
   "file_extension": ".py",
   "mimetype": "text/x-python",
   "name": "python",
   "nbconvert_exporter": "python",
   "pygments_lexer": "ipython3",
   "version": "3.12.4"
  }
 },
 "nbformat": 4,
 "nbformat_minor": 2
}
