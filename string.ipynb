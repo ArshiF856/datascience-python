{
 "cells": [
  {
   "cell_type": "code",
   "execution_count": 10,
   "metadata": {},
   "outputs": [
    {
     "name": "stdout",
     "output_type": "stream",
     "text": [
      "l\n",
      "w\n",
      "lo wo\n",
      "String concatenation\n",
      "23\n",
      "STRING DUPLICATION\n",
      "hellohellohellohellohello\n"
     ]
    },
    {
     "data": {
      "text/plain": [
       "'HELLO'"
      ]
     },
     "execution_count": 10,
     "metadata": {},
     "output_type": "execute_result"
    }
   ],
   "source": [
    "txt = 'Hello world'\n",
    "print(txt[3])\n",
    "print(txt[6])\n",
    "print(txt[3:8])\n",
    "\n",
    "print(\"String concatenation\")\n",
    "a = \"2\"\n",
    "b = \"3\"\n",
    "print(a+b)\n",
    "print(\"STRING DUPLICATION\")\n",
    "c = \"hello\"\n",
    "print(c*5)\n",
    "c.upper()\n"
   ]
  },
  {
   "cell_type": "code",
   "execution_count": null,
   "metadata": {},
   "outputs": [],
   "source": [
    "#c.lower()"
   ]
  },
  {
   "cell_type": "code",
   "execution_count": null,
   "metadata": {},
   "outputs": [],
   "source": [
    "#c.capitalize()"
   ]
  },
  {
   "cell_type": "code",
   "execution_count": 11,
   "metadata": {},
   "outputs": [
    {
     "data": {
      "text/plain": [
       "['hello', 'there', 'guys']"
      ]
     },
     "execution_count": 11,
     "metadata": {},
     "output_type": "execute_result"
    }
   ],
   "source": [
    "a = \"hello there guys\"\n",
    "a.split()"
   ]
  },
  {
   "cell_type": "code",
   "execution_count": 15,
   "metadata": {},
   "outputs": [
    {
     "name": "stdout",
     "output_type": "stream",
     "text": [
      "hello there\n",
      "whatsup \n",
      "are you okay\n"
     ]
    }
   ],
   "source": [
    "line = '''hello there\n",
    "whatsup \n",
    "are you okay'''\n",
    "print(line)"
   ]
  },
  {
   "cell_type": "code",
   "execution_count": 17,
   "metadata": {},
   "outputs": [
    {
     "data": {
      "text/plain": [
       "2"
      ]
     },
     "execution_count": 17,
     "metadata": {},
     "output_type": "execute_result"
    }
   ],
   "source": [
    "line.count(\"u\")"
   ]
  },
  {
   "cell_type": "code",
   "execution_count": 19,
   "metadata": {},
   "outputs": [
    {
     "data": {
      "text/plain": [
       "['hello there', 'whatsup ', 'are you okay']"
      ]
     },
     "execution_count": 19,
     "metadata": {},
     "output_type": "execute_result"
    }
   ],
   "source": [
    "line.splitlines()"
   ]
  },
  {
   "cell_type": "code",
   "execution_count": 22,
   "metadata": {},
   "outputs": [
    {
     "name": "stdout",
     "output_type": "stream",
     "text": [
      "hy there\n",
      "how are you \n",
      "are you alright\n"
     ]
    }
   ],
   "source": [
    "b = line.replace(\"whatsup\",\"how are you\").replace(\"hello\",\"hy\").replace(\"okay\",\"alright\")\n",
    "print(b)"
   ]
  },
  {
   "cell_type": "code",
   "execution_count": 27,
   "metadata": {},
   "outputs": [
    {
     "name": "stdout",
     "output_type": "stream",
     "text": [
      "C:_User_Lenovo_Document\n",
      "C:/User/Lenovo/Document\n",
      "C: User Lenovo Document\n",
      "C:UserLenovoDocument\n"
     ]
    }
   ],
   "source": [
    "path = ['C:','User','Lenovo','Document']\n",
    "print('_'.join(path))\n",
    "print('/'.join(path))\n",
    "print(' '.join(path))\n",
    "print(''.join(path))"
   ]
  },
  {
   "cell_type": "code",
   "execution_count": null,
   "metadata": {},
   "outputs": [],
   "source": []
  }
 ],
 "metadata": {
  "kernelspec": {
   "display_name": "base",
   "language": "python",
   "name": "python3"
  },
  "language_info": {
   "codemirror_mode": {
    "name": "ipython",
    "version": 3
   },
   "file_extension": ".py",
   "mimetype": "text/x-python",
   "name": "python",
   "nbconvert_exporter": "python",
   "pygments_lexer": "ipython3",
   "version": "3.12.4"
  }
 },
 "nbformat": 4,
 "nbformat_minor": 2
}
