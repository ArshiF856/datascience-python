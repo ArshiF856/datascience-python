{
 "cells": [
  {
   "cell_type": "code",
   "execution_count": 1,
   "metadata": {},
   "outputs": [
    {
     "name": "stdout",
     "output_type": "stream",
     "text": [
      "['facebook', 'google', 'drive', 'notepad', 'gallery', 'uber', 'ola', 'amazon', 'flipcart', 'whatsapp']\n",
      "uber\n"
     ]
    }
   ],
   "source": [
    "apps = [\"facebook\",\"google\",\"drive\",\"notepad\",\"gallery\",\"uber\",\"ola\",\"amazon\",\"flipcart\",\"whatsapp\"]\n",
    "print(apps)\n",
    "print(apps[5])"
   ]
  },
  {
   "cell_type": "code",
   "execution_count": 7,
   "metadata": {},
   "outputs": [
    {
     "name": "stdout",
     "output_type": "stream",
     "text": [
      "['facebook', 'google', 'drive', 'notepad', 'gallery', 'whatsapp']\n"
     ]
    }
   ],
   "source": [
    "apps.pop(5)\n",
    "print(apps)\n",
    "\n"
   ]
  },
  {
   "cell_type": "markdown",
   "metadata": {},
   "source": [
    "List Comprehension\n"
   ]
  },
  {
   "cell_type": "code",
   "execution_count": 2,
   "metadata": {},
   "outputs": [
    {
     "name": "stdout",
     "output_type": "stream",
     "text": [
      "[4, 16, 36, 64, 100]\n"
     ]
    }
   ],
   "source": [
    "a= [2,4,6,8,10]\n",
    "lst = []\n",
    "for i in a:\n",
    "    lst.append(i**2)\n",
    "print(lst)\n"
   ]
  },
  {
   "cell_type": "code",
   "execution_count": 8,
   "metadata": {},
   "outputs": [
    {
     "name": "stdout",
     "output_type": "stream",
     "text": [
      "[144, 1156, 441, 484]\n"
     ]
    }
   ],
   "source": [
    "#list comprehension reduce our code to one line\n",
    "num = [12,34,21,22]\n",
    "square = [i**2 for i in num]\n",
    "print(square)"
   ]
  },
  {
   "cell_type": "code",
   "execution_count": 9,
   "metadata": {},
   "outputs": [
    {
     "name": "stdout",
     "output_type": "stream",
     "text": [
      "[2, 4, 6, 8, 10]\n"
     ]
    }
   ],
   "source": [
    "x = [1,2,3,4,5,6,7,8,9,10]\n",
    "even = [num for num in x if num%2==0]\n",
    "print(even)"
   ]
  },
  {
   "cell_type": "code",
   "execution_count": 12,
   "metadata": {},
   "outputs": [
    {
     "name": "stdout",
     "output_type": "stream",
     "text": [
      "['banana', 'cherry', 'orange']\n"
     ]
    }
   ],
   "source": [
    "fruits = [\"apple\",\"banana\",\"pear\",\"pineapple\",\"cherry\",\"orange\",\"kiwi\",\"strawberry\",\"mango\",]\n",
    "length = [leng for leng in fruits if len(leng)==6]\n",
    "print(length)"
   ]
  },
  {
   "cell_type": "code",
   "execution_count": 13,
   "metadata": {},
   "outputs": [
    {
     "name": "stdout",
     "output_type": "stream",
     "text": [
      "['HELLO', 'BYE', 'NAME', 'IS', 'ARE']\n"
     ]
    }
   ],
   "source": [
    "words = ['hello','bye','name','is','are']\n",
    "lst = [i.upper() for i in words]\n",
    "print(lst)"
   ]
  },
  {
   "cell_type": "code",
   "execution_count": null,
   "metadata": {},
   "outputs": [],
   "source": []
  }
 ],
 "metadata": {
  "kernelspec": {
   "display_name": "base",
   "language": "python",
   "name": "python3"
  },
  "language_info": {
   "codemirror_mode": {
    "name": "ipython",
    "version": 3
   },
   "file_extension": ".py",
   "mimetype": "text/x-python",
   "name": "python",
   "nbconvert_exporter": "python",
   "pygments_lexer": "ipython3",
   "version": "3.12.4"
  }
 },
 "nbformat": 4,
 "nbformat_minor": 2
}
